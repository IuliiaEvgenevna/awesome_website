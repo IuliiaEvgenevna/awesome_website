{
 "cells": [
  {
   "cell_type": "code",
   "execution_count": 5,
   "metadata": {},
   "outputs": [
    {
     "name": "stdout",
     "output_type": "stream",
     "text": [
      "Загадано число от 1 до 100\n",
      "Вы угадали число 86 за 6 попыток\n"
     ]
    }
   ],
   "source": [
    "\n",
    "import numpy as np\n",
    "number = np.random.randint(start, end + 1) \n",
    "print (f\"Загадано число от {start} до {end}\")\n",
    "start = 1\n",
    "end = 100 \n",
    "\n",
    "def guess(number):\n",
    "    \"\"\"Function for calculating the number of attempts to guess a number.\"\"\"    \n",
    "    count = 0\n",
    "    left = start \n",
    "    right = end  \n",
    "    predict = 0\n",
    "    \n",
    "    while predict != number:    \n",
    "        count += 1       \n",
    "        predict = (left + right) // 2       \n",
    "        if number == predict: break  \n",
    "        elif number > predict: \n",
    "            left = predict +1\n",
    "        elif number < predict: \n",
    "            right = predict -1\n",
    "\n",
    "    return(count)    \n",
    "\n",
    "print (f\"Вы угадали число {number} за {guess(number)} попыток\")  "
   ]
  }
 ],
 "metadata": {
  "kernelspec": {
   "display_name": "Python 3",
   "language": "python",
   "name": "python3"
  },
  "language_info": {
   "codemirror_mode": {
    "name": "ipython",
    "version": 3
   },
   "file_extension": ".py",
   "mimetype": "text/x-python",
   "name": "python",
   "nbconvert_exporter": "python",
   "pygments_lexer": "ipython3",
   "version": "3.8.5"
  }
 },
 "nbformat": 4,
 "nbformat_minor": 4
}
